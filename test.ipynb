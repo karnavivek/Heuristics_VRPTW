{
 "cells": [
  {
   "cell_type": "code",
   "execution_count": 1,
   "metadata": {},
   "outputs": [],
   "source": [
    "import pandas as pd\n",
    "import numpy as np\n",
    "import matplotlib.pyplot as plt"
   ]
  },
  {
   "cell_type": "markdown",
   "metadata": {},
   "source": [
    "### Inputs and Parameters"
   ]
  },
  {
   "cell_type": "code",
   "execution_count": 2,
   "metadata": {},
   "outputs": [],
   "source": [
    "# Parameters\n",
    "n = 10  # number of customers \n",
    "v = 5   # number of vehicles available\n",
    "\n",
    "# Inputs (from your provided data)\n",
    "nodes = [0] + [i for i in range(1, n+1)] + [n+1]\n",
    "X = [100, 55, 50, 24, 141, 128, 99, 21, 69, 132, 161, 100] #X-axis coordinates\n",
    "Y = [100, 152, 59, 36, 29, 71, 79, 165, 163, 163, 77, 100] #Y-axis coordinates\n",
    "distance_matrix = {(i, j): np.hypot(X[i] - X[j], Y[i] - Y[j]) for i in nodes for j in nodes if i != j} #distance matrix between all the demand points\n",
    "a = {0: 0, 1: 70, 2: 70, 3: 50, 4: 50, 5: 70, 6: 50, 7: 50, 8: 50, 9: 35, 10: 40, 11: 0} \n",
    "b = {0: 300, 1: 140, 2: 190, 3: 180, 4: 180, 5: 190, 6: 180, 7: 180, 8: 180, 9: 260, 10: 280, 11: 300}\n",
    "s = {0: 0, 1: 10, 2: 20, 3: 30, 4: 20, 5: 30, 6: 30, 7: 50, 8: 60, 9: 20, 10: 40, 11: 0}"
   ]
  },
  {
   "cell_type": "code",
   "execution_count": 6,
   "metadata": {},
   "outputs": [
    {
     "data": {
      "text/plain": [
       "[0, 1, 2, 3, 4, 5, 6, 7, 8, 9, 10, 11]"
      ]
     },
     "execution_count": 6,
     "metadata": {},
     "output_type": "execute_result"
    }
   ],
   "source": [
    "''' \n",
    "Here 0 and 11 represent the same depot, it means vehicle i starts from depot 0 & \n",
    "comes back at the same depot after all the deliveries, but name here is denoted by 11\n",
    "\n",
    "in logic there are only 10 demand point or lets say there are only 10 franchises of idlee where delivery of batter is required.\n",
    "'''\n",
    "\n",
    "nodes"
   ]
  },
  {
   "cell_type": "code",
   "execution_count": 18,
   "metadata": {},
   "outputs": [
    {
     "data": {
      "image/png": "[encoded data removed]",
      "text/plain": [
       "<Figure size 1200x600 with 1 Axes>"
      ]
     },
     "metadata": {},
     "output_type": "display_data"
    }
   ],
   "source": [
    "X[0], Y[0]\n",
    "\n",
    "\n",
    "plt.figure(figsize=(12, 6))\n",
    "plt.scatter(X, Y, color='g')\n",
    "plt.scatter(X[0], Y[0], marker=\"D\", color='r')\n",
    "plt.title(\"Graphical Representation\")\n",
    "plt.show()"
   ]
  },
  {
   "cell_type": "code",
   "execution_count": 4,
   "metadata": {},
   "outputs": [
    {
     "data": {
      "text/plain": [
       "{(0, 1): 68.76772498781678,\n",
       " (0, 2): 64.66065264130884,\n",
       " (0, 3): 99.35793878699377,\n",
       " (0, 4): 81.98780397107853,\n",
       " (0, 5): 40.311288741492746,\n",
       " (0, 6): 21.02379604162864,\n",
       " (0, 7): 102.30347012687302,\n",
       " (0, 8): 70.21395872616783,\n",
       " (0, 9): 70.66116330771806,\n",
       " (0, 10): 65.19202405202648,\n",
       " (0, 11): 0.0,\n",
       " (1, 0): 68.76772498781678,\n",
       " (1, 2): 93.13431161500041,\n",
       " (1, 3): 120.07081243999309,\n",
       " (1, 4): 150.08331019803634,\n",
       " (1, 5): 109.04127658827184,\n",
       " (1, 6): 85.23496934944014,\n",
       " (1, 7): 36.40054944640259,\n",
       " (1, 8): 17.804493814764857,\n",
       " (1, 9): 77.78174593052023,\n",
       " (1, 10): 129.84991336154215,\n",
       " (1, 11): 68.76772498781678,\n",
       " (2, 0): 64.66065264130884,\n",
       " (2, 1): 93.13431161500041,\n",
       " (2, 3): 34.713109915419565,\n",
       " (2, 4): 95.81753492967766,\n",
       " (2, 5): 78.91767862779544,\n",
       " (2, 6): 52.92447448959697,\n",
       " (2, 7): 109.89540481748998,\n",
       " (2, 8): 105.72133181151285,\n",
       " (2, 9): 132.43866504914644,\n",
       " (2, 10): 112.44998888394787,\n",
       " (2, 11): 64.66065264130884,\n",
       " (3, 0): 99.35793878699377,\n",
       " (3, 1): 120.07081243999309,\n",
       " (3, 2): 34.713109915419565,\n",
       " (3, 4): 117.2092146548214,\n",
       " (3, 5): 109.73149046650191,\n",
       " (3, 6): 86.45229898620394,\n",
       " (3, 7): 129.0348790056394,\n",
       " (3, 8): 134.73678042761748,\n",
       " (3, 9): 166.71232707871366,\n",
       " (3, 10): 143.0034964607509,\n",
       " (3, 11): 99.35793878699377,\n",
       " (4, 0): 81.98780397107853,\n",
       " (4, 1): 150.08331019803634,\n",
       " (4, 2): 95.81753492967766,\n",
       " (4, 3): 117.2092146548214,\n",
       " (4, 5): 43.965895873961216,\n",
       " (4, 6): 65.29931086925804,\n",
       " (4, 7): 181.37254478007415,\n",
       " (4, 8): 152.11837495845134,\n",
       " (4, 9): 134.30189872075525,\n",
       " (4, 10): 52.0,\n",
       " (4, 11): 81.98780397107853,\n",
       " (5, 0): 40.311288741492746,\n",
       " (5, 1): 109.04127658827184,\n",
       " (5, 2): 78.91767862779544,\n",
       " (5, 3): 109.73149046650191,\n",
       " (5, 4): 43.965895873961216,\n",
       " (5, 6): 30.083217912982647,\n",
       " (5, 7): 142.42541907960108,\n",
       " (5, 8): 109.29318368498559,\n",
       " (5, 9): 92.0869154657707,\n",
       " (5, 10): 33.54101966249684,\n",
       " (5, 11): 40.311288741492746,\n",
       " (6, 0): 21.02379604162864,\n",
       " (6, 1): 85.23496934944014,\n",
       " (6, 2): 52.92447448959697,\n",
       " (6, 3): 86.45229898620394,\n",
       " (6, 4): 65.29931086925804,\n",
       " (6, 5): 30.083217912982647,\n",
       " (6, 7): 116.10340218959993,\n",
       " (6, 8): 89.19641248391103,\n",
       " (6, 9): 90.24965373894794,\n",
       " (6, 10): 62.03224967708329,\n",
       " (6, 11): 21.02379604162864,\n",
       " (7, 0): 102.30347012687302,\n",
       " (7, 1): 36.40054944640259,\n",
       " (7, 2): 109.89540481748998,\n",
       " (7, 3): 129.0348790056394,\n",
       " (7, 4): 181.37254478007415,\n",
       " (7, 5): 142.42541907960108,\n",
       " (7, 6): 116.10340218959993,\n",
       " (7, 8): 48.041648597857254,\n",
       " (7, 9): 111.01801655587259,\n",
       " (7, 10): 165.3602128687551,\n",
       " (7, 11): 102.30347012687302,\n",
       " (8, 0): 70.21395872616783,\n",
       " (8, 1): 17.804493814764857,\n",
       " (8, 2): 105.72133181151285,\n",
       " (8, 3): 134.73678042761748,\n",
       " (8, 4): 152.11837495845134,\n",
       " (8, 5): 109.29318368498559,\n",
       " (8, 6): 89.19641248391103,\n",
       " (8, 7): 48.041648597857254,\n",
       " (8, 9): 63.0,\n",
       " (8, 10): 125.93649193144932,\n",
       " (8, 11): 70.21395872616783,\n",
       " (9, 0): 70.66116330771806,\n",
       " (9, 1): 77.78174593052023,\n",
       " (9, 2): 132.43866504914644,\n",
       " (9, 3): 166.71232707871366,\n",
       " (9, 4): 134.30189872075525,\n",
       " (9, 5): 92.0869154657707,\n",
       " (9, 6): 90.24965373894794,\n",
       " (9, 7): 111.01801655587259,\n",
       " (9, 8): 63.0,\n",
       " (9, 10): 90.75791976461338,\n",
       " (9, 11): 70.66116330771806,\n",
       " (10, 0): 65.19202405202648,\n",
       " (10, 1): 129.84991336154215,\n",
       " (10, 2): 112.44998888394787,\n",
       " (10, 3): 143.0034964607509,\n",
       " (10, 4): 52.0,\n",
       " (10, 5): 33.54101966249684,\n",
       " (10, 6): 62.03224967708329,\n",
       " (10, 7): 165.3602128687551,\n",
       " (10, 8): 125.93649193144932,\n",
       " (10, 9): 90.75791976461338,\n",
       " (10, 11): 65.19202405202648,\n",
       " (11, 0): 0.0,\n",
       " (11, 1): 68.76772498781678,\n",
       " (11, 2): 64.66065264130884,\n",
       " (11, 3): 99.35793878699377,\n",
       " (11, 4): 81.98780397107853,\n",
       " (11, 5): 40.311288741492746,\n",
       " (11, 6): 21.02379604162864,\n",
       " (11, 7): 102.30347012687302,\n",
       " (11, 8): 70.21395872616783,\n",
       " (11, 9): 70.66116330771806,\n",
       " (11, 10): 65.19202405202648}"
      ]
     },
     "execution_count": 4,
     "metadata": {},
     "output_type": "execute_result"
    }
   ],
   "source": [
    "distance_matrix"
   ]
  },
  {
   "cell_type": "code",
   "execution_count": null,
   "metadata": {},
   "outputs": [],
   "source": []
  }
 ],
 "metadata": {
  "kernelspec": {
   "display_name": "Python 3",
   "language": "python",
   "name": "python3"
  },
  "language_info": {
   "codemirror_mode": {
    "name": "ipython",
    "version": 3
   },
   "file_extension": ".py",
   "mimetype": "text/x-python",
   "name": "python",
   "nbconvert_exporter": "python",
   "pygments_lexer": "ipython3",
   "version": "3.12.3"
  }
 },
 "nbformat": 4,
 "nbformat_minor": 2
}
